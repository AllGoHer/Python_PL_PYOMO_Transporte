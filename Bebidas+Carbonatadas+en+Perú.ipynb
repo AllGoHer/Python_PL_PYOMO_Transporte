{
 "cells": [
  {
   "cell_type": "markdown",
   "id": "67773ee7",
   "metadata": {},
   "source": [
    "\"\"\"\n",
   
    "## Caso: Bebidas carbonatadas\n",
    "\n",
    "El problema del transporte de una conocida empresa de bebidas. El cual tiene dos plantas de producción en Perú, ubicadas en Lima y Arequipa, y necesita distribuir sus productos a varios centros de distribución en ciudades como Trujillo, Cusco, Iquitos, Tacna, Piura, Chiclayo y Puno.\n",
    "\n",
    "La idea es utilizar estos datos para mostrar cómo se puede aplicar la programación lineal para optimizar los costos de transporte en un contexto empresarial.\n",
    "\n",
    "A continuación, se presenta el código en Python utilizando Pyomo para modelar y resolver este problema de transporte.\n",
    "\"\"\""
   ]
  },
  {
   "cell_type": "code",
   "execution_count": null,
   "id": "ab192f42",
   "metadata": {},
   "outputs": [],
   "source": [
    "# Importar Biblioteca"
   ]
  },
  {
   "cell_type": "code",
   "execution_count": 89,
   "id": "d3563205",
   "metadata": {},
   "outputs": [],
   "source": [
    "from pyomo.environ import *"
   ]
  },
  {
   "cell_type": "code",
   "execution_count": null,
   "id": "05a19651",
   "metadata": {},
   "outputs": [],
   "source": [
    "# Datos del problema\n",
    "# Plantas de producción (capacidad en cajas)"
   ]
  },
  {
   "cell_type": "code",
   "execution_count": 91,
   "id": "2c1e5956",
   "metadata": {},
   "outputs": [],
   "source": [
    "Plantas = {'Lima': 1200, 'Arequipa': 1000}"
   ]
  },
  {
   "cell_type": "code",
   "execution_count": null,
   "id": "01e41c4a",
   "metadata": {},
   "outputs": [],
   "source": [
    "# Centros de distribución (demanda en cajas)"
   ]
  },
  {
   "cell_type": "code",
   "execution_count": 92,
   "id": "b4fdf90d",
   "metadata": {},
   "outputs": [],
   "source": [
    "Centros = {\n",
    "    'Trujillo': 200,\n",
    "    'Cusco': 150,\n",
    "    'Iquitos': 100,\n",
    "    'Tacna': 150,\n",
    "    'Piura': 200,\n",
    "    'Chiclayo': 150,\n",
    "    'Puno': 100\n",
    "}"
   ]
  },
  {
   "cell_type": "code",
   "execution_count": null,
   "id": "b46255a7",
   "metadata": {},
   "outputs": [],
   "source": [
    "# Definición de los costos de transporte\n",
    "# Este diccionario contiene los costos de transporte por caja de bebidas\n",
    "# desde cada planta de producción hasta cada centro de distribución.\n",
    "# Los costos están en soles peruanos y son estimaciones basadas en la distancia.\n",
    "# Cada clave del diccionario es un par (planta, centro de distribución),\n",
    "# y el valor asociado es el costo por caja.\n",
    "# Por ejemplo, el costo de enviar una caja desde Lima a Trujillo es de 3.5 soles.\n",
    "\n",
    "# En la vida real, determinar estos costos de transporte puede ser la parte más complicada\n",
    "# del problema. Requiere investigación detallada y a menudo negociación con proveedores de\n",
    "# transporte. Un buen método aproximado, especialmente cuando se dispone de poca información,\n",
    "# es utilizar la distancia como un factor determinante. Se puede calcular o estimar un costo\n",
    "# por unidad de transporte por kilómetro, y luego multiplicar este costo por la distancia\n",
    "# entre cada origen y destino. Esta aproximación proporciona una base razonable para modelar\n",
    "# los costos de transporte en un escenario como el presente, donde los datos exactos pueden\n",
    "# no estar disponibles o ser difíciles de obtener."
   ]
  },
  {
   "cell_type": "code",
   "execution_count": 93,
   "id": "0e61e42a",
   "metadata": {},
   "outputs": [],
   "source": [
    "Costos_transporte = {\n",
    "    ('Lima', 'Trujillo'): 3.5,\n",
    "    ('Lima', 'Cusco'): 4.0,\n",
    "    ('Lima', 'Iquitos'): 5.0,\n",
    "    ('Lima', 'Tacna'): 4.5,\n",
    "    ('Lima', 'Piura'): 3.2,\n",
    "    ('Lima', 'Chiclayo'): 3.4,\n",
    "    ('Lima', 'Puno'): 4.5,\n",
    "    ('Arequipa', 'Trujillo'): 4.5,\n",
    "    ('Arequipa', 'Cusco'): 3.0,\n",
    "    ('Arequipa', 'Iquitos'): 5.5,\n",
    "    ('Arequipa', 'Tacna'): 2.5,\n",
    "    ('Arequipa', 'Piura'): 4.2,\n",
    "    ('Arequipa', 'Chiclayo'): 4.0,\n",
    "    ('Arequipa', 'Puno'): 3.2\n",
    "}"
   ]
  },
  {
   "cell_type": "code",
   "execution_count": null,
   "id": "22fd1325",
   "metadata": {},
   "outputs": [],
   "source": [
    "# Crear el modelo"
   ]
  },
  {
   "cell_type": "code",
   "execution_count": 94,
   "id": "3bac9b9a",
   "metadata": {},
   "outputs": [],
   "source": [
    "modelo = ConcreteModel()"
   ]
  },
  {
   "cell_type": "code",
   "execution_count": null,
   "id": "567867bd",
   "metadata": {},
   "outputs": [],
   "source": [
    "# Definición de las variables de decisión\n",
    "# 'modelo.transporte' representa la cantidad de cajas de bebidas que se enviarán\n",
    "# desde cada planta de producción a cada centro de distribución.\n",
    "# Las claves de esta variable multidimensional corresponden a cada par\n",
    "# (planta de producción, centro de distribución).\n",
    "# La 'domain' especificada como 'NonNegativeReals' significa que\n",
    "# la cantidad de cajas enviadas no puede ser negativa, reflejando una realidad física\n",
    "# donde no tiene sentido enviar una cantidad negativa de productos."
   ]
  },
  {
   "cell_type": "code",
   "execution_count": 96,
   "id": "c8ce1071",
   "metadata": {},
   "outputs": [],
   "source": [
    "modelo.transporte = Var(Plantas.keys(), Centros.keys(), domain= NonNegativeReals)"
   ]
  },
  {
   "cell_type": "code",
   "execution_count": null,
   "id": "33e85371",
   "metadata": {},
   "outputs": [],
   "source": [
    "# Definición de la función objetivo\n",
    "# 'modelo.costo_total' representa el costo total de transporte de todas las cajas\n",
    "# desde las plantas hasta los centros de distribución.\n",
    "# La expresión suma el producto del costo de transporte por caja (definido en\n",
    "# 'Costos_transporte') y la cantidad de cajas a transportar (definida en\n",
    "# 'modelo.transporte') para cada combinación de planta y centro de distribución.\n",
    "# La 'sense' de la función objetivo es 'minimize', lo que indica que el\n",
    "# objetivo del modelo es minimizar esta suma total de costos de transporte.\n",
    "# Esto es coherente con la meta de encontrar la forma más económica de\n",
    "# distribuir las cajas desde las plantas a los centros de distribución."
   ]
  },
  {
   "cell_type": "code",
   "execution_count": 97,
   "id": "d619b8bf",
   "metadata": {},
   "outputs": [],
   "source": [
    "modelo.costo_total = Objective(\n",
    "    expr= sum(Costos_transporte[planta,centro] * modelo.transporte[planta,centro]\n",
    "             for planta in Plantas for centro in Centros), sense = minimize)"
   ]
  },
  {
   "cell_type": "code",
   "execution_count": null,
   "id": "f5e673a5",
   "metadata": {},
   "outputs": [],
   "source": [
    "# Definición de las restricciones de oferta para las plantas\n",
    "# 'modelo.restriccion_oferta' es una lista de restricciones que asegura que\n",
    "# la cantidad total de cajas enviadas desde cada planta no exceda su capacidad de producción.\n",
    "# Para cada planta, sumamos la cantidad de cajas enviadas a todos los centros de distribución.\n",
    "# Esta suma debe ser menor o igual a la capacidad de producción de la planta,\n",
    "# que está definida en el diccionario 'Plantas'.\n",
    "# Estas restricciones son cruciales para garantizar que el modelo no planifique\n",
    "# enviar más productos de los que cada planta puede producir."
   ]
  },
  {
   "cell_type": "code",
   "execution_count": 98,
   "id": "eb3b7b2e",
   "metadata": {},
   "outputs": [],
   "source": [
    "modelo.restriccion_oferta = ConstraintList()\n",
    "for planta in Plantas:\n",
    "    modelo.restriccion_oferta.add(\n",
    "        sum(modelo.transporte[planta, centro] for centro in Centros) <= Plantas[planta])"
   ]
  },
  {
   "cell_type": "code",
   "execution_count": null,
   "id": "ff5313fb",
   "metadata": {},
   "outputs": [],
   "source": [
    "# Definición de las restricciones de demanda para los centros de distribución\n",
    "# 'modelo.restriccion_demanda' es una lista de restricciones que asegura que\n",
    "# la demanda de cada centro de distribución sea completamente satisfecha.\n",
    "# Para cada centro de distribución, sumamos la cantidad de cajas enviadas desde\n",
    "# todas las plantas. Esta suma debe ser igual a la demanda del centro de distribución,\n",
    "# la cual está definida en el diccionario 'Centros'.\n",
    "# Estas restricciones son fundamentales para garantizar que el modelo planifique\n",
    "# el envío de suficientes productos para cumplir con la demanda de cada centro."
   ]
  },
  {
   "cell_type": "code",
   "execution_count": 99,
   "id": "953611ce",
   "metadata": {},
   "outputs": [],
   "source": [
    "modelo.restriccion_demanda = ConstraintList()\n",
    "for centro in Centros:\n",
    "    modelo.restriccion_demanda.add(\n",
    "        sum(modelo.transporte[planta, centro] for planta in Plantas) == Centros[centro])"
   ]
  },
  {
   "cell_type": "code",
   "execution_count": null,
   "id": "27f06a06",
   "metadata": {},
   "outputs": [],
   "source": [
    "# Resolver el modelo usando el solucionador GLPK"
   ]
  },
  {
   "cell_type": "code",
   "execution_count": 100,
   "id": "680eafca",
   "metadata": {},
   "outputs": [
    {
     "data": {
      "text/plain": [
       "{'Problem': [{'Name': 'unknown', 'Lower bound': 3495.0, 'Upper bound': 3495.0, 'Number of objectives': 1, 'Number of constraints': 10, 'Number of variables': 15, 'Number of nonzeros': 29, 'Sense': 'minimize'}], 'Solver': [{'Status': 'ok', 'Termination condition': 'optimal', 'Statistics': {'Branch and bound': {'Number of bounded subproblems': 0, 'Number of created subproblems': 0}}, 'Error rc': 0, 'Time': 0.12994861602783203}], 'Solution': [OrderedDict([('number of solutions', 0), ('number of solutions displayed', 0)])]}"
      ]
     },
     "execution_count": 100,
     "metadata": {},
     "output_type": "execute_result"
    }
   ],
   "source": [
    "SolverFactory('glpk').solve(modelo)"
   ]
  },
  {
   "cell_type": "code",
   "execution_count": null,
   "id": "a374957b",
   "metadata": {},
   "outputs": [],
   "source": [
    "# Imprimir los resultados del modelo\n",
    "# Este bloque de código recorre todas las combinaciones de plantas y centros de distribución.\n",
    "# Para cada par (planta, centro), obtiene el valor de la variable de decisión 'modelo.transporte',\n",
    "# que indica la cantidad de cajas a enviar desde esa planta a ese centro.\n",
    "# Solo imprimimos las cantidades que son mayores que cero, lo que significa que hay un envío real\n",
    "# desde la planta al centro de distribución.\n",
    "# Esto ayuda a visualizar de manera clara y concisa qué rutas de transporte se utilizarán\n",
    "# y cuántas cajas se enviarán por cada ruta, según la solución óptima encontrada por el modelo."
   ]
  },
  {
   "cell_type": "code",
   "execution_count": 102,
   "id": "be13b78a",
   "metadata": {},
   "outputs": [
    {
     "name": "stdout",
     "output_type": "stream",
     "text": [
      "Desde Lima enviar a Trujillo: 200.0 cajas\n",
      "Desde Lima enviar a Iquitos: 100.0 cajas\n",
      "Desde Lima enviar a Piura: 200.0 cajas\n",
      "Desde Lima enviar a Chiclayo: 150.0 cajas\n",
      "Desde Arequipa enviar a Cusco: 150.0 cajas\n",
      "Desde Arequipa enviar a Tacna: 150.0 cajas\n",
      "Desde Arequipa enviar a Puno: 100.0 cajas\n"
     ]
    }
   ],
   "source": [
    "for planta in Plantas:\n",
    "    for centro in Centros:\n",
    "        cantidad = modelo.transporte[planta, centro].value\n",
    "        if cantidad > 0:\n",
    "            print(f\"Desde {planta} enviar a {centro}: {cantidad} cajas\")"
   ]
  },
  {
   "cell_type": "code",
   "execution_count": null,
   "id": "5c24207a",
   "metadata": {},
   "outputs": [],
   "source": []
  }
 ],
 "metadata": {
  "kernelspec": {
   "display_name": "Python 3",
   "language": "python",
   "name": "python3"
  },
  "language_info": {
   "codemirror_mode": {
    "name": "ipython",
    "version": 3
   },
   "file_extension": ".py",
   "mimetype": "text/x-python",
   "name": "python",
   "nbconvert_exporter": "python",
   "pygments_lexer": "ipython3",
   "version": "3.8.8"
  }
 },
 "nbformat": 4,
 "nbformat_minor": 5
}
